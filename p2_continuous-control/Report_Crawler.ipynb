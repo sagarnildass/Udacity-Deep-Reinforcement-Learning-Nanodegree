{
 "cells": [
  {
   "cell_type": "markdown",
   "metadata": {},
   "source": [
    "# Continuous Control\n",
    "\n",
    "---\n",
    "\n",
    "Congratulations for completing the second project of the [Deep Reinforcement Learning Nanodegree](https://www.udacity.com/course/deep-reinforcement-learning-nanodegree--nd893) program!  In this notebook, you will learn how to control an agent in a more challenging environment, where the goal is to train a creature with four arms to walk forward.  **Note that this exercise is optional!**\n",
    "\n",
    "### 1. Start the Environment\n",
    "\n",
    "We begin by importing the necessary packages.  If the code cell below returns an error, please revisit the project instructions to double-check that you have installed [Unity ML-Agents](https://github.com/Unity-Technologies/ml-agents/blob/master/docs/Installation.md) and [NumPy](http://www.numpy.org/)."
   ]
  },
  {
   "cell_type": "code",
   "execution_count": 1,
   "metadata": {},
   "outputs": [],
   "source": [
    "from unityagents import UnityEnvironment\n",
    "import numpy as np"
   ]
  },
  {
   "cell_type": "markdown",
   "metadata": {},
   "source": [
    "Next, we will start the environment!  **_Before running the code cell below_**, change the `file_name` parameter to match the location of the Unity environment that you downloaded.\n",
    "\n",
    "- **Mac**: `\"path/to/Crawler.app\"`\n",
    "- **Windows** (x86): `\"path/to/Crawler_Windows_x86/Crawler.exe\"`\n",
    "- **Windows** (x86_64): `\"path/to/Crawler_Windows_x86_64/Crawler.exe\"`\n",
    "- **Linux** (x86): `\"path/to/Crawler_Linux/Crawler.x86\"`\n",
    "- **Linux** (x86_64): `\"path/to/Crawler_Linux/Crawler.x86_64\"`\n",
    "- **Linux** (x86, headless): `\"path/to/Crawler_Linux_NoVis/Crawler.x86\"`\n",
    "- **Linux** (x86_64, headless): `\"path/to/Crawler_Linux_NoVis/Crawler.x86_64\"`\n",
    "\n",
    "For instance, if you are using a Mac, then you downloaded `Crawler.app`.  If this file is in the same folder as the notebook, then the line below should appear as follows:\n",
    "```\n",
    "env = UnityEnvironment(file_name=\"Crawler.app\")\n",
    "```"
   ]
  },
  {
   "cell_type": "code",
   "execution_count": 2,
   "metadata": {},
   "outputs": [
    {
     "name": "stdout",
     "output_type": "stream",
     "text": [
      "Found path: /home/sagarnildass/python_notebooks/Udacity-Deep-Reinforcement-Learning/my_codes/p2_continuous-control/Crawler_Linux/Crawler.x86_64\n",
      "Mono path[0] = '/home/sagarnildass/python_notebooks/Udacity-Deep-Reinforcement-Learning/my_codes/p2_continuous-control/Crawler_Linux/Crawler_Data/Managed'\n",
      "Mono config path = '/home/sagarnildass/python_notebooks/Udacity-Deep-Reinforcement-Learning/my_codes/p2_continuous-control/Crawler_Linux/Crawler_Data/MonoBleedingEdge/etc'\n",
      "Preloaded 'ScreenSelector.so'\n",
      "Preloaded 'libgrpc_csharp_ext.x64.so'\n",
      "Unable to preload the following plugins:\n",
      "\tScreenSelector.so\n",
      "\tlibgrpc_csharp_ext.x86.so\n",
      "Logging to /home/sagarnildass/.config/unity3d/Unity Technologies/Unity Environment/Player.log\n"
     ]
    },
    {
     "name": "stderr",
     "output_type": "stream",
     "text": [
      "INFO:unityagents:\n",
      "'Academy' started successfully!\n",
      "Unity Academy name: Academy\n",
      "        Number of Brains: 1\n",
      "        Number of External Brains : 1\n",
      "        Lesson number : 0\n",
      "        Reset Parameters :\n",
      "\t\t\n",
      "Unity brain name: CrawlerBrain\n",
      "        Number of Visual Observations (per agent): 0\n",
      "        Vector Observation space type: continuous\n",
      "        Vector Observation space size (per agent): 129\n",
      "        Number of stacked Vector Observation: 1\n",
      "        Vector Action space type: continuous\n",
      "        Vector Action space size (per agent): 20\n",
      "        Vector Action descriptions: , , , , , , , , , , , , , , , , , , , \n"
     ]
    }
   ],
   "source": [
    "env = UnityEnvironment(file_name='Crawler_Linux/Crawler.x86_64')"
   ]
  },
  {
   "cell_type": "markdown",
   "metadata": {},
   "source": [
    "Environments contain **_brains_** which are responsible for deciding the actions of their associated agents. Here we check for the first brain available, and set it as the default brain we will be controlling from Python."
   ]
  },
  {
   "cell_type": "code",
   "execution_count": 3,
   "metadata": {},
   "outputs": [],
   "source": [
    "# get the default brain\n",
    "brain_name = env.brain_names[0]\n",
    "brain = env.brains[brain_name]"
   ]
  },
  {
   "cell_type": "markdown",
   "metadata": {},
   "source": [
    "### 2. Examine the State and Action Spaces\n",
    "\n",
    "Run the code cell below to print some information about the environment."
   ]
  },
  {
   "cell_type": "code",
   "execution_count": 4,
   "metadata": {},
   "outputs": [
    {
     "name": "stdout",
     "output_type": "stream",
     "text": [
      "Number of agents: 12\n",
      "Size of each action: 20\n",
      "There are 12 agents. Each observes a state with length: 129\n",
      "The state for the first agent looks like: [ 0.00000000e+00  0.00000000e+00  0.00000000e+00  2.25000000e+00\n",
      "  1.00000000e+00  0.00000000e+00  1.78813934e-07  0.00000000e+00\n",
      "  1.00000000e+00  0.00000000e+00  0.00000000e+00  0.00000000e+00\n",
      "  0.00000000e+00  0.00000000e+00  0.00000000e+00  0.00000000e+00\n",
      "  0.00000000e+00  0.00000000e+00  0.00000000e+00  0.00000000e+00\n",
      "  0.00000000e+00  0.00000000e+00  0.00000000e+00  0.00000000e+00\n",
      "  6.06093168e-01 -1.42857209e-01 -6.06078804e-01  0.00000000e+00\n",
      "  0.00000000e+00  0.00000000e+00  0.00000000e+00  0.00000000e+00\n",
      "  0.00000000e+00  0.00000000e+00  0.00000000e+00  0.00000000e+00\n",
      "  0.00000000e+00  0.00000000e+00  1.33339906e+00 -1.42857209e-01\n",
      " -1.33341408e+00  0.00000000e+00  0.00000000e+00  0.00000000e+00\n",
      "  0.00000000e+00  0.00000000e+00  0.00000000e+00  0.00000000e+00\n",
      "  0.00000000e+00  0.00000000e+00  0.00000000e+00  0.00000000e+00\n",
      " -6.06093347e-01 -1.42857209e-01 -6.06078625e-01  0.00000000e+00\n",
      "  0.00000000e+00  0.00000000e+00  0.00000000e+00  0.00000000e+00\n",
      "  0.00000000e+00  0.00000000e+00  0.00000000e+00  0.00000000e+00\n",
      "  0.00000000e+00  0.00000000e+00 -1.33339953e+00 -1.42857209e-01\n",
      " -1.33341372e+00  0.00000000e+00  0.00000000e+00  0.00000000e+00\n",
      "  0.00000000e+00  0.00000000e+00  0.00000000e+00  0.00000000e+00\n",
      "  0.00000000e+00  0.00000000e+00  0.00000000e+00  0.00000000e+00\n",
      " -6.06093168e-01 -1.42857209e-01  6.06078804e-01  0.00000000e+00\n",
      "  0.00000000e+00  0.00000000e+00  0.00000000e+00  0.00000000e+00\n",
      "  0.00000000e+00  0.00000000e+00  0.00000000e+00  0.00000000e+00\n",
      "  0.00000000e+00  0.00000000e+00 -1.33339906e+00 -1.42857209e-01\n",
      "  1.33341408e+00  0.00000000e+00  0.00000000e+00  0.00000000e+00\n",
      "  0.00000000e+00  0.00000000e+00  0.00000000e+00  0.00000000e+00\n",
      "  0.00000000e+00  0.00000000e+00  0.00000000e+00  0.00000000e+00\n",
      "  6.06093347e-01 -1.42857209e-01  6.06078625e-01  0.00000000e+00\n",
      "  0.00000000e+00  0.00000000e+00  0.00000000e+00  0.00000000e+00\n",
      "  0.00000000e+00  0.00000000e+00  0.00000000e+00  0.00000000e+00\n",
      "  0.00000000e+00  0.00000000e+00  1.33339953e+00 -1.42857209e-01\n",
      "  1.33341372e+00  0.00000000e+00  0.00000000e+00  0.00000000e+00\n",
      "  0.00000000e+00]\n"
     ]
    }
   ],
   "source": [
    "# reset the environment\n",
    "env_info = env.reset(train_mode=True)[brain_name]\n",
    "\n",
    "# number of agents\n",
    "num_agents = len(env_info.agents)\n",
    "print('Number of agents:', num_agents)\n",
    "\n",
    "# size of each action\n",
    "action_size = brain.vector_action_space_size\n",
    "print('Size of each action:', action_size)\n",
    "\n",
    "# examine the state space \n",
    "states = env_info.vector_observations\n",
    "state_size = states.shape[1]\n",
    "print('There are {} agents. Each observes a state with length: {}'.format(states.shape[0], state_size))\n",
    "print('The state for the first agent looks like:', states[0])"
   ]
  },
  {
   "cell_type": "markdown",
   "metadata": {},
   "source": [
    "### 3. Take Random Actions in the Environment\n",
    "\n",
    "In the next code cell, you will learn how to use the Python API to control the agent and receive feedback from the environment.\n",
    "\n",
    "Once this cell is executed, you will watch the agent's performance, if it selects an action at random with each time step.  A window should pop up that allows you to observe the agent, as it moves through the environment.  \n",
    "\n",
    "Of course, as part of the project, you'll have to change the code so that the agent is able to use its experience to gradually choose better actions when interacting with the environment!"
   ]
  },
  {
   "cell_type": "code",
   "execution_count": 5,
   "metadata": {},
   "outputs": [
    {
     "name": "stdout",
     "output_type": "stream",
     "text": [
      "Total score (averaged over agents) this episode: 0.17565144637289146\n"
     ]
    }
   ],
   "source": [
    "env_info = env.reset(train_mode=False)[brain_name]     # reset the environment    \n",
    "states = env_info.vector_observations                  # get the current state (for each agent)\n",
    "scores = np.zeros(num_agents)                          # initialize the score (for each agent)\n",
    "while True:\n",
    "    actions = np.random.randn(num_agents, action_size) # select an action (for each agent)\n",
    "    actions = np.clip(actions, -1, 1)                  # all actions between -1 and 1\n",
    "    env_info = env.step(actions)[brain_name]           # send all actions to tne environment\n",
    "    next_states = env_info.vector_observations         # get next state (for each agent)\n",
    "    rewards = env_info.rewards                         # get reward (for each agent)\n",
    "    dones = env_info.local_done                        # see if episode finished\n",
    "    scores += env_info.rewards                         # update the score (for each agent)\n",
    "    states = next_states                               # roll over states to next time step\n",
    "    if np.any(dones):                                  # exit loop if episode finished\n",
    "        break\n",
    "print('Total score (averaged over agents) this episode: {}'.format(np.mean(scores)))"
   ]
  },
  {
   "cell_type": "markdown",
   "metadata": {},
   "source": [
    "When finished, you can close the environment."
   ]
  },
  {
   "cell_type": "code",
   "execution_count": null,
   "metadata": {},
   "outputs": [],
   "source": [
    "env.close()"
   ]
  },
  {
   "cell_type": "markdown",
   "metadata": {},
   "source": [
    "### 4. It's Your Turn!\n",
    "\n",
    "Now it's your turn to train your own agent to solve the environment!  When training the environment, set `train_mode=True`, so that the line for resetting the environment looks like the following:\n",
    "```python\n",
    "env_info = env.reset(train_mode=True)[brain_name]\n",
    "```"
   ]
  },
  {
   "cell_type": "code",
   "execution_count": 6,
   "metadata": {},
   "outputs": [
    {
     "data": {
      "text/plain": [
       "<contextlib.ExitStack at 0x7f2975c5bf40>"
      ]
     },
     "execution_count": 6,
     "metadata": {},
     "output_type": "execute_result"
    }
   ],
   "source": [
    "from collections import deque\n",
    "import matplotlib.pyplot as plt\n",
    "%matplotlib inline\n",
    "\n",
    "import torch\n",
    "import torch.nn as nn\n",
    "import torch.nn.functional as F\n",
    "import torch.optim as optim\n",
    "\n",
    "from crawler_agent import Agent\n",
    "import time\n",
    "plt.ion()"
   ]
  },
  {
   "cell_type": "code",
   "execution_count": 10,
   "metadata": {},
   "outputs": [],
   "source": [
    "\n",
    "def train(env, agent, n_episodes=500, max_t=1000, display_every=10):\n",
    "    scores = []\n",
    "    scores_window = deque(maxlen=100)\n",
    "        \n",
    "    for i_episode in range(1, n_episodes + 1):    \n",
    "        env_info = env.reset(train_mode=True)[brain_name]\n",
    "        \n",
    "        n_actors = len(env_info.vector_observations)\n",
    "        score = np.zeros(n_actors)\n",
    "\n",
    "        episode_length_list = []\n",
    "        episode_counter = np.zeros(n_actors)\n",
    "        \n",
    "        for t in range(1, max_t+1):\n",
    "            states = env_info.vector_observations\n",
    "                        \n",
    "            actions = agent.act(states)\n",
    "            \n",
    "            env_info = env.step(actions)[brain_name]\n",
    "            next_states = env_info.vector_observations\n",
    "            rewards = np.array(env_info.rewards)                \n",
    "            dones = env_info.local_done\n",
    "            \n",
    "            agent.step(states, actions, rewards, next_states, dones, std_scale=1)\n",
    "            \n",
    "            score += np.array(rewards)\n",
    "            score = np.where(dones, 0, score)\n",
    "            \n",
    "        mean_score = score.mean()\n",
    "        scores_window.append(mean_score)       # save most recent score\n",
    "        scores.append(mean_score)              # save most recent score\n",
    "        \n",
    "        print('\\rEpisode {}\\tAverage score: {:.2f}'.format(i_episode, np.mean(scores_window)), end=\"\")\n",
    "        \n",
    "        if i_episode % display_every == 0:\n",
    "            print('\\rEpisode {}\\tAverage score: {:.2f}'.format(i_episode, np.mean(scores_window)))\n",
    "            \n",
    "        if np.mean(scores_window) >= 500:\n",
    "            print('\\nEnvironment solved in {:d} episodes!\\tAverage score: {:.2f}'.format(np.maximum(i_episode, 0), np.mean(scores_window)))\n",
    "            \n",
    "            agent.save('crawler-weights.pth')\n",
    "            break\n",
    "    \n",
    "    return scores"
   ]
  },
  {
   "cell_type": "code",
   "execution_count": 7,
   "metadata": {},
   "outputs": [],
   "source": [
    "agent = Agent(\n",
    "    state_size=state_size, \n",
    "    action_size=action_size,\n",
    "    value_loss_weight=1.0,\n",
    "    gradient_clip=0.25,\n",
    "    ppo_ratio_clip_epsilon=0.1,\n",
    "    trajectory_length=1000,\n",
    "    gamma=0.9,\n",
    "    gae_lambda=0.95,\n",
    "    optimization_steps=32,\n",
    "    batch_size=1024,\n",
    "    entropy_penalty_weight=0.01,\n",
    "    optimizer_learning_rate=5e-6,\n",
    "    optimizer_weight_decay=1e-4,\n",
    "    optimizer_epsilon=1e-5,\n",
    "    std_init=-2.5\n",
    ")"
   ]
  },
  {
   "cell_type": "code",
   "execution_count": 12,
   "metadata": {},
   "outputs": [
    {
     "name": "stdout",
     "output_type": "stream",
     "text": [
      "Episode 10\tAverage score: 54.83\n",
      "Episode 20\tAverage score: 55.82\n",
      "Episode 30\tAverage score: 57.17\n",
      "Episode 40\tAverage score: 59.21\n",
      "Episode 50\tAverage score: 62.43\n",
      "Episode 60\tAverage score: 66.61\n",
      "Episode 70\tAverage score: 70.44\n",
      "Episode 80\tAverage score: 73.32\n",
      "Episode 90\tAverage score: 75.64\n",
      "Episode 100\tAverage score: 77.44\n",
      "Episode 110\tAverage score: 81.77\n",
      "Episode 120\tAverage score: 86.49\n",
      "Episode 130\tAverage score: 91.42\n",
      "Episode 140\tAverage score: 96.63\n",
      "Episode 150\tAverage score: 101.18\n",
      "Episode 160\tAverage score: 105.21\n",
      "Episode 170\tAverage score: 109.36\n",
      "Episode 180\tAverage score: 113.44\n",
      "Episode 190\tAverage score: 118.10\n",
      "Episode 200\tAverage score: 123.70\n",
      "Episode 210\tAverage score: 129.22\n",
      "Episode 220\tAverage score: 135.08\n",
      "Episode 230\tAverage score: 140.15\n",
      "Episode 240\tAverage score: 145.04\n",
      "Episode 250\tAverage score: 149.72\n",
      "Episode 260\tAverage score: 154.56\n",
      "Episode 270\tAverage score: 159.57\n",
      "Episode 280\tAverage score: 164.69\n",
      "Episode 290\tAverage score: 169.50\n",
      "Episode 300\tAverage score: 174.18\n",
      "Episode 310\tAverage score: 180.08\n",
      "Episode 320\tAverage score: 184.93\n",
      "Episode 330\tAverage score: 190.02\n",
      "Episode 340\tAverage score: 195.09\n",
      "Episode 350\tAverage score: 200.30\n",
      "Episode 360\tAverage score: 205.78\n",
      "Episode 370\tAverage score: 211.28\n",
      "Episode 380\tAverage score: 217.43\n",
      "Episode 390\tAverage score: 224.23\n",
      "Episode 400\tAverage score: 230.18\n",
      "Episode 410\tAverage score: 235.47\n",
      "Episode 420\tAverage score: 243.17\n",
      "Episode 430\tAverage score: 250.60\n",
      "Episode 440\tAverage score: 257.90\n",
      "Episode 450\tAverage score: 266.93\n",
      "Episode 460\tAverage score: 276.33\n",
      "Episode 470\tAverage score: 286.24\n",
      "Episode 480\tAverage score: 297.55\n",
      "Episode 490\tAverage score: 308.70\n",
      "Episode 500\tAverage score: 320.44\n",
      "Episode 510\tAverage score: 334.26\n",
      "Episode 520\tAverage score: 346.21\n",
      "Episode 530\tAverage score: 359.96\n",
      "Episode 540\tAverage score: 376.53\n",
      "Episode 550\tAverage score: 391.80\n",
      "Episode 560\tAverage score: 406.79\n",
      "Episode 570\tAverage score: 421.27\n",
      "Episode 580\tAverage score: 435.31\n",
      "Episode 590\tAverage score: 448.23\n",
      "Episode 600\tAverage score: 462.79\n",
      "Episode 610\tAverage score: 473.66\n",
      "Episode 620\tAverage score: 485.49\n",
      "Episode 630\tAverage score: 496.26\n",
      "Episode 634\tAverage score: 500.19\n",
      "Environment solved in 634 episodes!\tAverage score: 500.19\n"
     ]
    }
   ],
   "source": [
    "scores = train(env, agent, n_episodes=2000, max_t=1000, display_every=10)\n"
   ]
  },
  {
   "cell_type": "code",
   "execution_count": 14,
   "metadata": {},
   "outputs": [
    {
     "data": {
      "image/png": "[encoded data removed]",
      "text/plain": [
       "<Figure size 640x480 with 1 Axes>"
      ]
     },
     "metadata": {},
     "output_type": "display_data"
    }
   ],
   "source": [
    "# plot the scores\n",
    "fig = plt.figure()\n",
    "ax = fig.add_subplot(111)\n",
    "plt.plot(np.arange(len(scores)), scores)\n",
    "plt.title('Crawler Rewards')\n",
    "plt.ylabel('Score')\n",
    "plt.xlabel('Episode #')\n",
    "plt.show()"
   ]
  },
  {
   "cell_type": "code",
   "execution_count": 10,
   "metadata": {},
   "outputs": [
    {
     "name": "stdout",
     "output_type": "stream",
     "text": [
      "Total score (averaged over agents) this episode: 473.5747804396281\n"
     ]
    }
   ],
   "source": [
    "# load the weights from file\n",
    "agent.load('crawler-weights.pth')\n",
    "\n",
    "# Run through once with loaded model\n",
    "env_info = env.reset(train_mode=False)[brain_name]            # reset the environment    \n",
    "states = env_info.vector_observations                         # get the current state (for each agent)\n",
    "scores = np.zeros(num_agents)                                 # initialize the score (for each agent)\n",
    "for t in range(1000):\n",
    "    actions = agent.act(states)             # get actions from model (for each agent)\n",
    "    env_info = env.step(actions)[brain_name]                  # send all actions to tne environment\n",
    "    next_states = env_info.vector_observations                # get next state (for each agent)\n",
    "    rewards = env_info.rewards                                # get reward (for each agent)\n",
    "    dones = env_info.local_done                               # see if episode finished\n",
    "    scores += env_info.rewards                                # update the score (for each agent)\n",
    "    states = next_states                                      # roll over states to next time step\n",
    "    if np.any(dones):                                         # exit loop if episode finished\n",
    "        break\n",
    "\n",
    "print('Total score (averaged over agents) this episode: {}'.format(np.mean(scores)))"
   ]
  },
  {
   "cell_type": "code",
   "execution_count": 11,
   "metadata": {},
   "outputs": [],
   "source": [
    "env.close()"
   ]
  },
  {
   "cell_type": "code",
   "execution_count": null,
   "metadata": {},
   "outputs": [],
   "source": []
  }
 ],
 "metadata": {
  "kernelspec": {
   "display_name": "Python 3 (ipykernel)",
   "language": "python",
   "name": "python3"
  },
  "language_info": {
   "codemirror_mode": {
    "name": "ipython",
    "version": 3
   },
   "file_extension": ".py",
   "mimetype": "text/x-python",
   "name": "python",
   "nbconvert_exporter": "python",
   "pygments_lexer": "ipython3",
   "version": "3.9.15"
  }
 },
 "nbformat": 4,
 "nbformat_minor": 2
}
